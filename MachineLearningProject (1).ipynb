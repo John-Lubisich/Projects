{
  "nbformat": 4,
  "nbformat_minor": 0,
  "metadata": {
    "colab": {
      "provenance": []
    },
    "kernelspec": {
      "name": "python3",
      "display_name": "Python 3"
    },
    "language_info": {
      "name": "python"
    }
  },
  "cells": [
    {
      "cell_type": "markdown",
      "source": [
        "John Lubisich\n",
        "\n",
        "15 October 2024"
      ],
      "metadata": {
        "id": "G5cHHAj2ZWvv"
      }
    },
    {
      "cell_type": "markdown",
      "source": [
        "# NLP Hobby Recommender"
      ],
      "metadata": {
        "id": "scN8s47oIj03"
      }
    },
    {
      "cell_type": "markdown",
      "source": [
        "## Introduction"
      ],
      "metadata": {
        "id": "MGv-wvjXIlYO"
      }
    },
    {
      "cell_type": "markdown",
      "source": [
        "For any individual, a hobby that is good fit to their lifestyles or preferences can benefit their mental health, physical health, and/or be a great way to relax. From this, hobbies can be seen as very important to those who struggle with any or all of these things. However, hobbies include many other characteristics such as cost, seasonality, time commitment, etc. Therefore, it can be difficult to find a hobby that is a perfect fit for a particular person's lifestyle."
      ],
      "metadata": {
        "id": "aPFvZLvpIobe"
      }
    },
    {
      "cell_type": "markdown",
      "source": [
        "## Purpose"
      ],
      "metadata": {
        "id": "IPMN31ZFJXFV"
      }
    },
    {
      "cell_type": "markdown",
      "source": [
        "Considering the importance of hobbies and the difficult of finding a perfect fit, we will create a content based recommendation system that takes a hobby that a person knows they enjoy and pair them to similar but different hobbies, in hopes that one can better fit in their life. This is especially important for those who have recently undergone change in their life and need to find another hobby. For example, if someone has undergone an injury and cannot perform their favorite hobby anymore, using this tool they will be able to enter their favorite hobby and be given options of similar hobbies with descriptions of how the hobbies differ. The user would then be able to use their own discretion and pick a recommended hobby that is well suited to themselves."
      ],
      "metadata": {
        "id": "ZU1KFrZRJaBN"
      }
    },
    {
      "cell_type": "markdown",
      "source": [
        "# The Code"
      ],
      "metadata": {
        "id": "cr-axLuRJxPk"
      }
    },
    {
      "cell_type": "markdown",
      "source": [
        "## Standard Libraries"
      ],
      "metadata": {
        "id": "wTohms0NZ2eN"
      }
    },
    {
      "cell_type": "markdown",
      "source": [
        "We will now import the necessary standard libraries."
      ],
      "metadata": {
        "id": "RoUmqEHdfeqr"
      }
    },
    {
      "cell_type": "code",
      "source": [
        "import pandas as pd\n",
        "import nltk\n",
        "from nltk.corpus import stopwords\n",
        "from nltk.tokenize import word_tokenize\n",
        "from nltk.stem import WordNetLemmatizer\n",
        "import string\n",
        "from sklearn.metrics.pairwise import cosine_similarity"
      ],
      "metadata": {
        "id": "uZ6keXEaZ1me"
      },
      "execution_count": null,
      "outputs": []
    },
    {
      "cell_type": "markdown",
      "source": [
        "# Inserting our Data"
      ],
      "metadata": {
        "id": "6DIk-rBLfiPZ"
      }
    },
    {
      "cell_type": "markdown",
      "source": [
        "We will now use our hobbies data with information we learned from reseaching each hobbies and the components that go into performing each hobby."
      ],
      "metadata": {
        "id": "-XjdwpGFfkqS"
      }
    },
    {
      "cell_type": "code",
      "execution_count": null,
      "metadata": {
        "id": "AXn5TTmUZAs_",
        "colab": {
          "base_uri": "https://localhost:8080/"
        },
        "outputId": "66be7df0-5d67-446f-dce0-ab50b9dd5625"
      },
      "outputs": [
        {
          "output_type": "stream",
          "name": "stdout",
          "text": [
            "Drive already mounted at /content/drive; to attempt to forcibly remount, call drive.mount(\"/content/drive\", force_remount=True).\n"
          ]
        }
      ],
      "source": [
        "from google.colab import drive\n",
        "drive.mount('/content/drive')\n",
        "hobbies = pd.read_csv(\"/content/drive/My Drive/Colab Notebooks/Hobbies.csv\")"
      ]
    },
    {
      "cell_type": "code",
      "source": [
        "hobbies=hobbies.drop(\"Category\", axis=1)"
      ],
      "metadata": {
        "id": "I5lmRiEOibsO"
      },
      "execution_count": null,
      "outputs": []
    },
    {
      "cell_type": "code",
      "source": [
        "list(hobbies.columns.values)"
      ],
      "metadata": {
        "colab": {
          "base_uri": "https://localhost:8080/"
        },
        "id": "w5MC-PprJ5ma",
        "outputId": "bd772a3f-4009-4905-92a8-bfbd6ded8fa4"
      },
      "execution_count": null,
      "outputs": [
        {
          "output_type": "execute_result",
          "data": {
            "text/plain": [
              "['Hobby',\n",
              " 'Description',\n",
              " 'Time commitment',\n",
              " 'Material Requirement',\n",
              " 'Achievement',\n",
              " 'Mental Stimulation',\n",
              " 'Discovery',\n",
              " 'Health benefits',\n",
              " 'Physical intensity',\n",
              " 'Cost',\n",
              " 'Seasonal',\n",
              " 'Indoor/Outdoor']"
            ]
          },
          "metadata": {},
          "execution_count": 48
        }
      ]
    },
    {
      "cell_type": "markdown",
      "source": [
        "Above, we can see the components that we consider the most important when attempting to find a perfect fit hobby. We have the hobby name and a short description of the hobby. Also, on a scale from 1 to 5 (5 being the greatest), we have given each hobby what we believe to be fit in its required time commitment, material requirement, achievement posibility, mental stimulation, discovery possibility, health benefits, physical intensity, and cost. We have also provided whether the hobby is seasonal or not as well as indoor or outdoor, so the user of this program can consider finding a different hobby during the post-seasonal time of this hobby or on a rainy day."
      ],
      "metadata": {
        "id": "kE2_XFOeKM68"
      }
    },
    {
      "cell_type": "code",
      "source": [
        "nltk.download('punkt')\n",
        "nltk.download('stopwords')\n",
        "nltk.download('wordnet')\n",
        "\n",
        "lemmatizer = WordNetLemmatizer()\n",
        "stop_words = set(stopwords.words('english'))\n",
        "\n",
        "def preprocess_text(text):\n",
        "    tokens = word_tokenize(text.lower())  # Tokenize and convert to lowercase\n",
        "    tokens = [lemmatizer.lemmatize(word) for word in tokens if word not in stop_words and word not in string.punctuation]\n",
        "    return ' '.join(tokens)\n",
        "\n",
        "hobbies['Processed_Description'] = hobbies['Description'].apply(preprocess_text)\n"
      ],
      "metadata": {
        "colab": {
          "base_uri": "https://localhost:8080/"
        },
        "id": "GyXLoHyGkmqp",
        "outputId": "468c0565-c7fe-4925-e3a0-577c9f3d43bd"
      },
      "execution_count": null,
      "outputs": [
        {
          "output_type": "stream",
          "name": "stderr",
          "text": [
            "[nltk_data] Downloading package punkt to /root/nltk_data...\n",
            "[nltk_data]   Package punkt is already up-to-date!\n",
            "[nltk_data] Downloading package stopwords to /root/nltk_data...\n",
            "[nltk_data]   Package stopwords is already up-to-date!\n",
            "[nltk_data] Downloading package wordnet to /root/nltk_data...\n",
            "[nltk_data]   Package wordnet is already up-to-date!\n"
          ]
        }
      ]
    },
    {
      "cell_type": "code",
      "source": [
        "from sklearn.feature_extraction.text import TfidfVectorizer\n",
        "\n",
        "tfidf = TfidfVectorizer()\n",
        "\n",
        "tfidf_matrix = tfidf.fit_transform(hobbies['Processed_Description'])\n"
      ],
      "metadata": {
        "id": "4fuERJb8lTI_"
      },
      "execution_count": null,
      "outputs": []
    },
    {
      "cell_type": "code",
      "source": [
        "from scipy.sparse import hstack\n",
        "\n",
        "hobbies['Seasonal'] = hobbies['Seasonal'].map({'yes': 1, 'no': 0})\n",
        "hobbies['Indoor/Outdoor'] = hobbies['Indoor/Outdoor'].map({'indoor': 0, 'outdoor': 1, 'either': 2})\n",
        "\n",
        "numerical_features = hobbies[['Material Requirement', 'Achievement', 'Mental Stimulation', 'Discovery', 'Time commitment', 'Health benefits', 'Physical intensity', 'Cost', 'Seasonal', 'Indoor/Outdoor']].values\n",
        "combined_features = hstack([tfidf_matrix, numerical_features])\n",
        "\n",
        "combined_features.shape\n"
      ],
      "metadata": {
        "colab": {
          "base_uri": "https://localhost:8080/"
        },
        "id": "-vDzVfudlhjU",
        "outputId": "1a79c2c8-6ffe-4ca8-9f61-de1fe610aa82"
      },
      "execution_count": null,
      "outputs": [
        {
          "output_type": "execute_result",
          "data": {
            "text/plain": [
              "(59, 1028)"
            ]
          },
          "metadata": {},
          "execution_count": 51
        }
      ]
    },
    {
      "cell_type": "code",
      "source": [
        "similarity_matrix = cosine_similarity(combined_features)"
      ],
      "metadata": {
        "id": "xs1hPNUenxkN"
      },
      "execution_count": null,
      "outputs": []
    },
    {
      "cell_type": "code",
      "source": [
        "def recommend_hobbies(hobby_name):\n",
        "    top_n=5\n",
        "    if hobby_name not in hobbies['Hobby'].values:\n",
        "        return \"Hobby not found in the dataset.\"\n",
        "\n",
        "    idx = hobbies[hobbies['Hobby'] == hobby_name].index[0]\n",
        "\n",
        "    similarity_scores = similarity_matrix[idx]\n",
        "\n",
        "\n",
        "    similar_hobbies_idx = similarity_scores.argsort()[::-1]\n",
        "\n",
        "    top_hobbies = []\n",
        "\n",
        "    for i in similar_hobbies_idx:\n",
        "        if i != idx:\n",
        "            top_hobbies.append(hobbies['Hobby'].iloc[i])\n",
        "        if len(top_hobbies) == top_n:\n",
        "            break\n",
        "\n",
        "    return top_hobbies"
      ],
      "metadata": {
        "id": "S4mq4DF2pGTP"
      },
      "execution_count": null,
      "outputs": []
    },
    {
      "cell_type": "markdown",
      "source": [
        "## Recommendations"
      ],
      "metadata": {
        "id": "4O8BGZ7KLPat"
      }
    },
    {
      "cell_type": "markdown",
      "source": [
        "Using our system, we will give some example recommendations for hobbies."
      ],
      "metadata": {
        "id": "azVr6LDFLTJ-"
      }
    },
    {
      "cell_type": "code",
      "source": [
        "recommend_hobbies('Woodworking')"
      ],
      "metadata": {
        "colab": {
          "base_uri": "https://localhost:8080/"
        },
        "id": "tQitqM1MpjHL",
        "outputId": "196a26f4-668f-4bd2-e6c9-b145c049a457"
      },
      "execution_count": null,
      "outputs": [
        {
          "output_type": "execute_result",
          "data": {
            "text/plain": [
              "['Metalworking', 'Sewing', 'Embroidery', 'Knitting', 'Beading']"
            ]
          },
          "metadata": {},
          "execution_count": 54
        }
      ]
    },
    {
      "cell_type": "code",
      "source": [
        "recommend_hobbies('Dancing')"
      ],
      "metadata": {
        "colab": {
          "base_uri": "https://localhost:8080/"
        },
        "id": "jqXJf0V0LGMc",
        "outputId": "3fe8259b-3969-479d-9d7f-148e4e4a560e"
      },
      "execution_count": null,
      "outputs": [
        {
          "output_type": "execute_result",
          "data": {
            "text/plain": [
              "['Tai Chi', 'Martial Arts', 'Running', 'Acting', 'Singing']"
            ]
          },
          "metadata": {},
          "execution_count": 55
        }
      ]
    },
    {
      "cell_type": "code",
      "source": [
        "recommend_hobbies('Yoga')"
      ],
      "metadata": {
        "colab": {
          "base_uri": "https://localhost:8080/"
        },
        "id": "j8e-jWuYLJY-",
        "outputId": "72663c7d-79bd-4a29-98ff-71490b8b655c"
      },
      "execution_count": null,
      "outputs": [
        {
          "output_type": "execute_result",
          "data": {
            "text/plain": [
              "['Meditation', 'Journalism', 'Writing', 'Puzzling', 'Acting']"
            ]
          },
          "metadata": {},
          "execution_count": 56
        }
      ]
    },
    {
      "cell_type": "markdown",
      "source": [
        "After using our tool, we have new recommendations for Hobbies, similar to our examples used. With this, we can now branch out and try hobbies that we are likely to enjoy as well as fit nicely in our characteristics."
      ],
      "metadata": {
        "id": "8kH7XoPKHwoW"
      }
    },
    {
      "cell_type": "markdown",
      "source": [
        "## Recomendation Summaries"
      ],
      "metadata": {
        "id": "Mh5jxkm-LaER"
      }
    },
    {
      "cell_type": "markdown",
      "source": [
        "To better give our users an idea of their recommended hobbies, we will provide them with a description and the components of the hobby. This is important to assist users in finding the hobby fit for them after considering the components of each hobby. For the sake of space, we will be using the recommended hobbies for Blacksmith. Note: For Seasonal, 1 = yes and 0 = no and for Indoor/Outdoor,\n",
        "0 = indoor, 1 = outdoor, and 2 = either."
      ],
      "metadata": {
        "id": "vV2AoQuZL9hb"
      }
    },
    {
      "cell_type": "code",
      "source": [
        "hobbies[hobbies['Hobby']=='Metalworking']['Description'].item()"
      ],
      "metadata": {
        "colab": {
          "base_uri": "https://localhost:8080/",
          "height": 86
        },
        "id": "4VBNCigCLhtm",
        "outputId": "6f34ad4b-1ec7-4e06-9d5b-b49f45caff0f"
      },
      "execution_count": null,
      "outputs": [
        {
          "output_type": "execute_result",
          "data": {
            "text/plain": [
              "'Blacksmithing is an ancient craft that involves shaping and forging metal using heat, hammers, and anvils to create tools, weapons, decorative items, or even sculptures. As a hobby, blacksmithing combines artistry with physical skill, allowing you to create custom, handmade pieces from metal. It requires learning how to control heat, manipulate materials, and use various tools to achieve the desired shape and design. Blacksmithing is both a meditative and physically demanding craft, and it offers the satisfaction of creating functional art that can last for generations.'"
            ],
            "application/vnd.google.colaboratory.intrinsic+json": {
              "type": "string"
            }
          },
          "metadata": {},
          "execution_count": 57
        }
      ]
    },
    {
      "cell_type": "code",
      "source": [
        "hobbies[hobbies['Hobby']=='Metalworking'].iloc[0]"
      ],
      "metadata": {
        "colab": {
          "base_uri": "https://localhost:8080/",
          "height": 486
        },
        "id": "CXLK6cNnL6Ld",
        "outputId": "d6a7304b-9640-41bb-ef73-272ac48257a3"
      },
      "execution_count": null,
      "outputs": [
        {
          "output_type": "execute_result",
          "data": {
            "text/plain": [
              "Hobby                                                         Metalworking\n",
              "Description              Blacksmithing is an ancient craft that involve...\n",
              "Time commitment                                                          4\n",
              "Material Requirement                                                     5\n",
              "Achievement                                                              4\n",
              "Mental Stimulation                                                       3\n",
              "Discovery                                                                1\n",
              "Health benefits                                                          2\n",
              "Physical intensity                                                       5\n",
              "Cost                                                                     5\n",
              "Seasonal                                                                 0\n",
              "Indoor/Outdoor                                                           0\n",
              "Processed_Description    blacksmithing ancient craft involves shaping f...\n",
              "Name: 50, dtype: object"
            ],
            "text/html": [
              "<div>\n",
              "<style scoped>\n",
              "    .dataframe tbody tr th:only-of-type {\n",
              "        vertical-align: middle;\n",
              "    }\n",
              "\n",
              "    .dataframe tbody tr th {\n",
              "        vertical-align: top;\n",
              "    }\n",
              "\n",
              "    .dataframe thead th {\n",
              "        text-align: right;\n",
              "    }\n",
              "</style>\n",
              "<table border=\"1\" class=\"dataframe\">\n",
              "  <thead>\n",
              "    <tr style=\"text-align: right;\">\n",
              "      <th></th>\n",
              "      <th>50</th>\n",
              "    </tr>\n",
              "  </thead>\n",
              "  <tbody>\n",
              "    <tr>\n",
              "      <th>Hobby</th>\n",
              "      <td>Metalworking</td>\n",
              "    </tr>\n",
              "    <tr>\n",
              "      <th>Description</th>\n",
              "      <td>Blacksmithing is an ancient craft that involve...</td>\n",
              "    </tr>\n",
              "    <tr>\n",
              "      <th>Time commitment</th>\n",
              "      <td>4</td>\n",
              "    </tr>\n",
              "    <tr>\n",
              "      <th>Material Requirement</th>\n",
              "      <td>5</td>\n",
              "    </tr>\n",
              "    <tr>\n",
              "      <th>Achievement</th>\n",
              "      <td>4</td>\n",
              "    </tr>\n",
              "    <tr>\n",
              "      <th>Mental Stimulation</th>\n",
              "      <td>3</td>\n",
              "    </tr>\n",
              "    <tr>\n",
              "      <th>Discovery</th>\n",
              "      <td>1</td>\n",
              "    </tr>\n",
              "    <tr>\n",
              "      <th>Health benefits</th>\n",
              "      <td>2</td>\n",
              "    </tr>\n",
              "    <tr>\n",
              "      <th>Physical intensity</th>\n",
              "      <td>5</td>\n",
              "    </tr>\n",
              "    <tr>\n",
              "      <th>Cost</th>\n",
              "      <td>5</td>\n",
              "    </tr>\n",
              "    <tr>\n",
              "      <th>Seasonal</th>\n",
              "      <td>0</td>\n",
              "    </tr>\n",
              "    <tr>\n",
              "      <th>Indoor/Outdoor</th>\n",
              "      <td>0</td>\n",
              "    </tr>\n",
              "    <tr>\n",
              "      <th>Processed_Description</th>\n",
              "      <td>blacksmithing ancient craft involves shaping f...</td>\n",
              "    </tr>\n",
              "  </tbody>\n",
              "</table>\n",
              "</div><br><label><b>dtype:</b> object</label>"
            ]
          },
          "metadata": {},
          "execution_count": 58
        }
      ]
    },
    {
      "cell_type": "code",
      "source": [
        "hobbies[hobbies['Hobby']=='Sewing']['Description'].item()"
      ],
      "metadata": {
        "colab": {
          "base_uri": "https://localhost:8080/",
          "height": 86
        },
        "id": "6Un-YajCQPiT",
        "outputId": "ab71b46c-7313-4b6f-a942-33b8db522fc4"
      },
      "execution_count": null,
      "outputs": [
        {
          "output_type": "execute_result",
          "data": {
            "text/plain": [
              "\"Sewing is a versatile and practical hobby that involves stitching fabric together to create clothing, accessories, home decor, or even quilts. Whether you're hand-sewing or using a sewing machine, it allows you to express your creativity through design, pattern-making, and fabric selection. Sewing can be both relaxing and productive, offering the satisfaction of creating something useful or beautiful from scratch. As a hobby, it also provides the opportunity to learn new skills, like tailoring, embroidery, or upcycling old garments into new creations.\""
            ],
            "application/vnd.google.colaboratory.intrinsic+json": {
              "type": "string"
            }
          },
          "metadata": {},
          "execution_count": 59
        }
      ]
    },
    {
      "cell_type": "code",
      "source": [
        "hobbies[hobbies['Hobby']=='Sewing'].iloc[0]"
      ],
      "metadata": {
        "colab": {
          "base_uri": "https://localhost:8080/",
          "height": 486
        },
        "id": "KrGRZx94QTG0",
        "outputId": "0a7c163a-8ee1-4bdd-a2df-0802d8f67c36"
      },
      "execution_count": null,
      "outputs": [
        {
          "output_type": "execute_result",
          "data": {
            "text/plain": [
              "Hobby                                                               Sewing\n",
              "Description              Sewing is a versatile and practical hobby that...\n",
              "Time commitment                                                          3\n",
              "Material Requirement                                                     4\n",
              "Achievement                                                              3\n",
              "Mental Stimulation                                                       2\n",
              "Discovery                                                                1\n",
              "Health benefits                                                          1\n",
              "Physical intensity                                                       4\n",
              "Cost                                                                     4\n",
              "Seasonal                                                                 0\n",
              "Indoor/Outdoor                                                           0\n",
              "Processed_Description    sewing versatile practical hobby involves stit...\n",
              "Name: 52, dtype: object"
            ],
            "text/html": [
              "<div>\n",
              "<style scoped>\n",
              "    .dataframe tbody tr th:only-of-type {\n",
              "        vertical-align: middle;\n",
              "    }\n",
              "\n",
              "    .dataframe tbody tr th {\n",
              "        vertical-align: top;\n",
              "    }\n",
              "\n",
              "    .dataframe thead th {\n",
              "        text-align: right;\n",
              "    }\n",
              "</style>\n",
              "<table border=\"1\" class=\"dataframe\">\n",
              "  <thead>\n",
              "    <tr style=\"text-align: right;\">\n",
              "      <th></th>\n",
              "      <th>52</th>\n",
              "    </tr>\n",
              "  </thead>\n",
              "  <tbody>\n",
              "    <tr>\n",
              "      <th>Hobby</th>\n",
              "      <td>Sewing</td>\n",
              "    </tr>\n",
              "    <tr>\n",
              "      <th>Description</th>\n",
              "      <td>Sewing is a versatile and practical hobby that...</td>\n",
              "    </tr>\n",
              "    <tr>\n",
              "      <th>Time commitment</th>\n",
              "      <td>3</td>\n",
              "    </tr>\n",
              "    <tr>\n",
              "      <th>Material Requirement</th>\n",
              "      <td>4</td>\n",
              "    </tr>\n",
              "    <tr>\n",
              "      <th>Achievement</th>\n",
              "      <td>3</td>\n",
              "    </tr>\n",
              "    <tr>\n",
              "      <th>Mental Stimulation</th>\n",
              "      <td>2</td>\n",
              "    </tr>\n",
              "    <tr>\n",
              "      <th>Discovery</th>\n",
              "      <td>1</td>\n",
              "    </tr>\n",
              "    <tr>\n",
              "      <th>Health benefits</th>\n",
              "      <td>1</td>\n",
              "    </tr>\n",
              "    <tr>\n",
              "      <th>Physical intensity</th>\n",
              "      <td>4</td>\n",
              "    </tr>\n",
              "    <tr>\n",
              "      <th>Cost</th>\n",
              "      <td>4</td>\n",
              "    </tr>\n",
              "    <tr>\n",
              "      <th>Seasonal</th>\n",
              "      <td>0</td>\n",
              "    </tr>\n",
              "    <tr>\n",
              "      <th>Indoor/Outdoor</th>\n",
              "      <td>0</td>\n",
              "    </tr>\n",
              "    <tr>\n",
              "      <th>Processed_Description</th>\n",
              "      <td>sewing versatile practical hobby involves stit...</td>\n",
              "    </tr>\n",
              "  </tbody>\n",
              "</table>\n",
              "</div><br><label><b>dtype:</b> object</label>"
            ]
          },
          "metadata": {},
          "execution_count": 60
        }
      ]
    },
    {
      "cell_type": "code",
      "source": [
        "hobbies[hobbies['Hobby']=='Embroidery']['Description'].item()"
      ],
      "metadata": {
        "colab": {
          "base_uri": "https://localhost:8080/",
          "height": 86
        },
        "id": "j3msnT_rQcgk",
        "outputId": "96b25c86-76dc-4015-94fe-c7164e4b9e76"
      },
      "execution_count": null,
      "outputs": [
        {
          "output_type": "execute_result",
          "data": {
            "text/plain": [
              "\"Embroidery is a creative hobby that involves decorating fabric using thread or yarn to create intricate patterns, designs, or even images. It can be done by hand or with a sewing machine and can range from simple stitches to highly detailed artwork. Whether you're embellishing clothes, creating wall art, or making custom gifts, embroidery allows for endless creativity and personalization. It's a relaxing and rewarding craft that can be both meditative and expressive, helping to improve fine motor skills and attention to detail.\""
            ],
            "application/vnd.google.colaboratory.intrinsic+json": {
              "type": "string"
            }
          },
          "metadata": {},
          "execution_count": 61
        }
      ]
    },
    {
      "cell_type": "code",
      "source": [
        "hobbies[hobbies['Hobby']=='Embroidery'].iloc[0]"
      ],
      "metadata": {
        "colab": {
          "base_uri": "https://localhost:8080/",
          "height": 486
        },
        "id": "3jP9LtoQQfWx",
        "outputId": "ea8c0d5a-6639-4174-d949-538548b1fd15"
      },
      "execution_count": null,
      "outputs": [
        {
          "output_type": "execute_result",
          "data": {
            "text/plain": [
              "Hobby                                                           Embroidery\n",
              "Description              Embroidery is a creative hobby that involves d...\n",
              "Time commitment                                                          2\n",
              "Material Requirement                                                     3\n",
              "Achievement                                                              3\n",
              "Mental Stimulation                                                       2\n",
              "Discovery                                                                1\n",
              "Health benefits                                                          1\n",
              "Physical intensity                                                       3\n",
              "Cost                                                                     3\n",
              "Seasonal                                                                 0\n",
              "Indoor/Outdoor                                                           0\n",
              "Processed_Description    embroidery creative hobby involves decorating ...\n",
              "Name: 51, dtype: object"
            ],
            "text/html": [
              "<div>\n",
              "<style scoped>\n",
              "    .dataframe tbody tr th:only-of-type {\n",
              "        vertical-align: middle;\n",
              "    }\n",
              "\n",
              "    .dataframe tbody tr th {\n",
              "        vertical-align: top;\n",
              "    }\n",
              "\n",
              "    .dataframe thead th {\n",
              "        text-align: right;\n",
              "    }\n",
              "</style>\n",
              "<table border=\"1\" class=\"dataframe\">\n",
              "  <thead>\n",
              "    <tr style=\"text-align: right;\">\n",
              "      <th></th>\n",
              "      <th>51</th>\n",
              "    </tr>\n",
              "  </thead>\n",
              "  <tbody>\n",
              "    <tr>\n",
              "      <th>Hobby</th>\n",
              "      <td>Embroidery</td>\n",
              "    </tr>\n",
              "    <tr>\n",
              "      <th>Description</th>\n",
              "      <td>Embroidery is a creative hobby that involves d...</td>\n",
              "    </tr>\n",
              "    <tr>\n",
              "      <th>Time commitment</th>\n",
              "      <td>2</td>\n",
              "    </tr>\n",
              "    <tr>\n",
              "      <th>Material Requirement</th>\n",
              "      <td>3</td>\n",
              "    </tr>\n",
              "    <tr>\n",
              "      <th>Achievement</th>\n",
              "      <td>3</td>\n",
              "    </tr>\n",
              "    <tr>\n",
              "      <th>Mental Stimulation</th>\n",
              "      <td>2</td>\n",
              "    </tr>\n",
              "    <tr>\n",
              "      <th>Discovery</th>\n",
              "      <td>1</td>\n",
              "    </tr>\n",
              "    <tr>\n",
              "      <th>Health benefits</th>\n",
              "      <td>1</td>\n",
              "    </tr>\n",
              "    <tr>\n",
              "      <th>Physical intensity</th>\n",
              "      <td>3</td>\n",
              "    </tr>\n",
              "    <tr>\n",
              "      <th>Cost</th>\n",
              "      <td>3</td>\n",
              "    </tr>\n",
              "    <tr>\n",
              "      <th>Seasonal</th>\n",
              "      <td>0</td>\n",
              "    </tr>\n",
              "    <tr>\n",
              "      <th>Indoor/Outdoor</th>\n",
              "      <td>0</td>\n",
              "    </tr>\n",
              "    <tr>\n",
              "      <th>Processed_Description</th>\n",
              "      <td>embroidery creative hobby involves decorating ...</td>\n",
              "    </tr>\n",
              "  </tbody>\n",
              "</table>\n",
              "</div><br><label><b>dtype:</b> object</label>"
            ]
          },
          "metadata": {},
          "execution_count": 62
        }
      ]
    },
    {
      "cell_type": "code",
      "source": [
        "hobbies[hobbies['Hobby']=='Knitting']['Description'].item()"
      ],
      "metadata": {
        "colab": {
          "base_uri": "https://localhost:8080/",
          "height": 69
        },
        "id": "4hwpOwPBQign",
        "outputId": "474a4eb0-2b27-418d-a5d5-4f70fd4cded7"
      },
      "execution_count": null,
      "outputs": [
        {
          "output_type": "execute_result",
          "data": {
            "text/plain": [
              "'Knitting as a hobby is a relaxing and creative way to craft unique, handmade items like scarves, sweaters, or blankets. It combines focus and patience, allowing you to unwind while creating something beautiful and functional. The rhythmic motion of knitting can be meditative, and the sense of accomplishment when finishing a project makes it a satisfying and rewarding activity.'"
            ],
            "application/vnd.google.colaboratory.intrinsic+json": {
              "type": "string"
            }
          },
          "metadata": {},
          "execution_count": 63
        }
      ]
    },
    {
      "cell_type": "code",
      "source": [
        "hobbies[hobbies['Hobby']=='Knitting'].iloc[0]"
      ],
      "metadata": {
        "colab": {
          "base_uri": "https://localhost:8080/",
          "height": 486
        },
        "id": "5V6ZekUcQlY0",
        "outputId": "5abab483-63e2-4ac8-db5e-25bca7c1cb37"
      },
      "execution_count": null,
      "outputs": [
        {
          "output_type": "execute_result",
          "data": {
            "text/plain": [
              "Hobby                                                             Knitting\n",
              "Description              Knitting as a hobby is a relaxing and creative...\n",
              "Time commitment                                                          2\n",
              "Material Requirement                                                     4\n",
              "Achievement                                                              2\n",
              "Mental Stimulation                                                       2\n",
              "Discovery                                                                1\n",
              "Health benefits                                                          1\n",
              "Physical intensity                                                       2\n",
              "Cost                                                                     3\n",
              "Seasonal                                                                 0\n",
              "Indoor/Outdoor                                                           0\n",
              "Processed_Description    knitting hobby relaxing creative way craft uni...\n",
              "Name: 11, dtype: object"
            ],
            "text/html": [
              "<div>\n",
              "<style scoped>\n",
              "    .dataframe tbody tr th:only-of-type {\n",
              "        vertical-align: middle;\n",
              "    }\n",
              "\n",
              "    .dataframe tbody tr th {\n",
              "        vertical-align: top;\n",
              "    }\n",
              "\n",
              "    .dataframe thead th {\n",
              "        text-align: right;\n",
              "    }\n",
              "</style>\n",
              "<table border=\"1\" class=\"dataframe\">\n",
              "  <thead>\n",
              "    <tr style=\"text-align: right;\">\n",
              "      <th></th>\n",
              "      <th>11</th>\n",
              "    </tr>\n",
              "  </thead>\n",
              "  <tbody>\n",
              "    <tr>\n",
              "      <th>Hobby</th>\n",
              "      <td>Knitting</td>\n",
              "    </tr>\n",
              "    <tr>\n",
              "      <th>Description</th>\n",
              "      <td>Knitting as a hobby is a relaxing and creative...</td>\n",
              "    </tr>\n",
              "    <tr>\n",
              "      <th>Time commitment</th>\n",
              "      <td>2</td>\n",
              "    </tr>\n",
              "    <tr>\n",
              "      <th>Material Requirement</th>\n",
              "      <td>4</td>\n",
              "    </tr>\n",
              "    <tr>\n",
              "      <th>Achievement</th>\n",
              "      <td>2</td>\n",
              "    </tr>\n",
              "    <tr>\n",
              "      <th>Mental Stimulation</th>\n",
              "      <td>2</td>\n",
              "    </tr>\n",
              "    <tr>\n",
              "      <th>Discovery</th>\n",
              "      <td>1</td>\n",
              "    </tr>\n",
              "    <tr>\n",
              "      <th>Health benefits</th>\n",
              "      <td>1</td>\n",
              "    </tr>\n",
              "    <tr>\n",
              "      <th>Physical intensity</th>\n",
              "      <td>2</td>\n",
              "    </tr>\n",
              "    <tr>\n",
              "      <th>Cost</th>\n",
              "      <td>3</td>\n",
              "    </tr>\n",
              "    <tr>\n",
              "      <th>Seasonal</th>\n",
              "      <td>0</td>\n",
              "    </tr>\n",
              "    <tr>\n",
              "      <th>Indoor/Outdoor</th>\n",
              "      <td>0</td>\n",
              "    </tr>\n",
              "    <tr>\n",
              "      <th>Processed_Description</th>\n",
              "      <td>knitting hobby relaxing creative way craft uni...</td>\n",
              "    </tr>\n",
              "  </tbody>\n",
              "</table>\n",
              "</div><br><label><b>dtype:</b> object</label>"
            ]
          },
          "metadata": {},
          "execution_count": 64
        }
      ]
    },
    {
      "cell_type": "code",
      "source": [
        "hobbies[hobbies['Hobby']=='Beading']['Description'].item()"
      ],
      "metadata": {
        "colab": {
          "base_uri": "https://localhost:8080/",
          "height": 86
        },
        "id": "H6xoNCo-Qopq",
        "outputId": "a9c37f6f-8692-43ae-e0aa-fc3837adffdb"
      },
      "execution_count": null,
      "outputs": [
        {
          "output_type": "execute_result",
          "data": {
            "text/plain": [
              "'Beading is a creative hobby that involves stringing beads together to create jewelry, accessories, or decorative items. It allows you to experiment with various colors, shapes, and materials—such as glass, metal, or wood—to craft unique pieces. Beading can range from simple designs like bracelets and earrings to intricate patterns in necklaces or even bead-embellished clothing. It’s a relaxing and meditative activity that also enhances your fine motor skills, attention to detail, and creativity, making it a rewarding and personalized craft.'"
            ],
            "application/vnd.google.colaboratory.intrinsic+json": {
              "type": "string"
            }
          },
          "metadata": {},
          "execution_count": 65
        }
      ]
    },
    {
      "cell_type": "code",
      "source": [
        "hobbies[hobbies['Hobby']=='Beading'].iloc[0]"
      ],
      "metadata": {
        "colab": {
          "base_uri": "https://localhost:8080/",
          "height": 486
        },
        "id": "UZMFtaTiQsiO",
        "outputId": "77215275-baea-4498-987c-d1784e863367"
      },
      "execution_count": null,
      "outputs": [
        {
          "output_type": "execute_result",
          "data": {
            "text/plain": [
              "Hobby                                                              Beading\n",
              "Description              Beading is a creative hobby that involves stri...\n",
              "Time commitment                                                          2\n",
              "Material Requirement                                                     3\n",
              "Achievement                                                              3\n",
              "Mental Stimulation                                                       2\n",
              "Discovery                                                                1\n",
              "Health benefits                                                          1\n",
              "Physical intensity                                                       1\n",
              "Cost                                                                     3\n",
              "Seasonal                                                                 0\n",
              "Indoor/Outdoor                                                           0\n",
              "Processed_Description    beading creative hobby involves stringing bead...\n",
              "Name: 53, dtype: object"
            ],
            "text/html": [
              "<div>\n",
              "<style scoped>\n",
              "    .dataframe tbody tr th:only-of-type {\n",
              "        vertical-align: middle;\n",
              "    }\n",
              "\n",
              "    .dataframe tbody tr th {\n",
              "        vertical-align: top;\n",
              "    }\n",
              "\n",
              "    .dataframe thead th {\n",
              "        text-align: right;\n",
              "    }\n",
              "</style>\n",
              "<table border=\"1\" class=\"dataframe\">\n",
              "  <thead>\n",
              "    <tr style=\"text-align: right;\">\n",
              "      <th></th>\n",
              "      <th>53</th>\n",
              "    </tr>\n",
              "  </thead>\n",
              "  <tbody>\n",
              "    <tr>\n",
              "      <th>Hobby</th>\n",
              "      <td>Beading</td>\n",
              "    </tr>\n",
              "    <tr>\n",
              "      <th>Description</th>\n",
              "      <td>Beading is a creative hobby that involves stri...</td>\n",
              "    </tr>\n",
              "    <tr>\n",
              "      <th>Time commitment</th>\n",
              "      <td>2</td>\n",
              "    </tr>\n",
              "    <tr>\n",
              "      <th>Material Requirement</th>\n",
              "      <td>3</td>\n",
              "    </tr>\n",
              "    <tr>\n",
              "      <th>Achievement</th>\n",
              "      <td>3</td>\n",
              "    </tr>\n",
              "    <tr>\n",
              "      <th>Mental Stimulation</th>\n",
              "      <td>2</td>\n",
              "    </tr>\n",
              "    <tr>\n",
              "      <th>Discovery</th>\n",
              "      <td>1</td>\n",
              "    </tr>\n",
              "    <tr>\n",
              "      <th>Health benefits</th>\n",
              "      <td>1</td>\n",
              "    </tr>\n",
              "    <tr>\n",
              "      <th>Physical intensity</th>\n",
              "      <td>1</td>\n",
              "    </tr>\n",
              "    <tr>\n",
              "      <th>Cost</th>\n",
              "      <td>3</td>\n",
              "    </tr>\n",
              "    <tr>\n",
              "      <th>Seasonal</th>\n",
              "      <td>0</td>\n",
              "    </tr>\n",
              "    <tr>\n",
              "      <th>Indoor/Outdoor</th>\n",
              "      <td>0</td>\n",
              "    </tr>\n",
              "    <tr>\n",
              "      <th>Processed_Description</th>\n",
              "      <td>beading creative hobby involves stringing bead...</td>\n",
              "    </tr>\n",
              "  </tbody>\n",
              "</table>\n",
              "</div><br><label><b>dtype:</b> object</label>"
            ]
          },
          "metadata": {},
          "execution_count": 66
        }
      ]
    },
    {
      "cell_type": "markdown",
      "source": [
        "In this example, if the user had a woodworking hobby in the past the system would recommend similar hobbies to Woodworking. Now, the user can find a fit using the information provided through their recommended hobbies."
      ],
      "metadata": {
        "id": "YKyxe0fPREw3"
      }
    },
    {
      "cell_type": "markdown",
      "source": [
        "# Analysis"
      ],
      "metadata": {
        "id": "_QZycbjpHPVA"
      }
    },
    {
      "cell_type": "markdown",
      "source": [
        "All of these recommendations make sense due to several shared charactersitics across these hobbies like, craftmanship, creativity, tools and time commitments. This is important for someone trying to find a new hobby based on one they already enjoy because of the amount of transferable skills each of these recommendations include. Because of the shared similarities, trying one of these new hobbies will be more likely to have a smoother transition and make for a more enjoyable experience."
      ],
      "metadata": {
        "id": "IUniqbJW9loY"
      }
    },
    {
      "cell_type": "markdown",
      "source": [
        "# Conclusion"
      ],
      "metadata": {
        "id": "hLHzM3LR9i92"
      }
    },
    {
      "cell_type": "markdown",
      "source": [
        "This tool is important for those who want to find a new hobby. With this tool, they can now put in a hobby they know that they like and find different but similar hobbies. From this, there may be a hobby that fits better in their lifestyle characteristics, such as their current alloted time, cost, or physical intensity for the hobby. This could be very helpful for college students in particular since each week can look very different from the next. However, it can also work well for those who have recently experienced changes in their lives, such as less time they can commit to a hobby or an injury that prevents them from endulging in their past hobbies."
      ],
      "metadata": {
        "id": "GLVYvpMlHSl3"
      }
    }
  ]
}